{
 "cells": [
  {
   "cell_type": "code",
   "execution_count": null,
   "metadata": {},
   "outputs": [],
   "source": [
    "# binance-api\n",
    "# libraries installed\n",
    "# required public and private keys\n",
    "# data is imported into pandas data frame = \"data\"\n"
   ]
  },
  {
   "cell_type": "code",
   "execution_count": null,
   "metadata": {},
   "outputs": [],
   "source": []
  },
  {
   "cell_type": "code",
   "execution_count": 98,
   "metadata": {},
   "outputs": [
    {
     "name": "stdout",
     "output_type": "stream",
     "text": [
      "Requirement already satisfied: python-binance in ./anaconda3/lib/python3.7/site-packages (0.7.4)\n",
      "Requirement already satisfied: certifi in ./anaconda3/lib/python3.7/site-packages (from python-binance) (2019.9.11)\n",
      "Requirement already satisfied: dateparser in ./anaconda3/lib/python3.7/site-packages (from python-binance) (0.7.2)\n",
      "Requirement already satisfied: cryptography in ./anaconda3/lib/python3.7/site-packages (from python-binance) (2.8)\n",
      "Requirement already satisfied: service-identity in ./anaconda3/lib/python3.7/site-packages (from python-binance) (18.1.0)\n",
      "Requirement already satisfied: Twisted in ./anaconda3/lib/python3.7/site-packages (from python-binance) (19.10.0)\n",
      "Requirement already satisfied: autobahn in ./anaconda3/lib/python3.7/site-packages (from python-binance) (19.11.1)\n",
      "Requirement already satisfied: urllib3 in ./anaconda3/lib/python3.7/site-packages (from python-binance) (1.24.2)\n",
      "Requirement already satisfied: requests in ./anaconda3/lib/python3.7/site-packages (from python-binance) (2.22.0)\n",
      "Requirement already satisfied: six in ./anaconda3/lib/python3.7/site-packages (from python-binance) (1.12.0)\n",
      "Requirement already satisfied: pyOpenSSL in ./anaconda3/lib/python3.7/site-packages (from python-binance) (19.0.0)\n",
      "Requirement already satisfied: chardet in ./anaconda3/lib/python3.7/site-packages (from python-binance) (3.0.4)\n",
      "Requirement already satisfied: regex in ./anaconda3/lib/python3.7/site-packages (from dateparser->python-binance) (2019.12.9)\n",
      "Requirement already satisfied: tzlocal in ./anaconda3/lib/python3.7/site-packages (from dateparser->python-binance) (2.0.0)\n",
      "Requirement already satisfied: python-dateutil in ./anaconda3/lib/python3.7/site-packages (from dateparser->python-binance) (2.8.0)\n",
      "Requirement already satisfied: pytz in ./anaconda3/lib/python3.7/site-packages (from dateparser->python-binance) (2019.3)\n",
      "Requirement already satisfied: cffi!=1.11.3,>=1.8 in ./anaconda3/lib/python3.7/site-packages (from cryptography->python-binance) (1.13.1)\n",
      "Requirement already satisfied: pyasn1 in ./anaconda3/lib/python3.7/site-packages (from service-identity->python-binance) (0.4.8)\n",
      "Requirement already satisfied: pyasn1-modules in ./anaconda3/lib/python3.7/site-packages (from service-identity->python-binance) (0.2.7)\n",
      "Requirement already satisfied: attrs>=16.0.0 in ./anaconda3/lib/python3.7/site-packages (from service-identity->python-binance) (19.3.0)\n",
      "Requirement already satisfied: zope.interface>=4.4.2 in ./anaconda3/lib/python3.7/site-packages (from Twisted->python-binance) (4.7.1)\n",
      "Requirement already satisfied: constantly>=15.1 in ./anaconda3/lib/python3.7/site-packages (from Twisted->python-binance) (15.1.0)\n",
      "Requirement already satisfied: hyperlink>=17.1.1 in ./anaconda3/lib/python3.7/site-packages (from Twisted->python-binance) (19.0.0)\n",
      "Requirement already satisfied: PyHamcrest>=1.9.0 in ./anaconda3/lib/python3.7/site-packages (from Twisted->python-binance) (1.9.0)\n",
      "Requirement already satisfied: Automat>=0.3.0 in ./anaconda3/lib/python3.7/site-packages (from Twisted->python-binance) (0.8.0)\n",
      "Requirement already satisfied: incremental>=16.10.1 in ./anaconda3/lib/python3.7/site-packages (from Twisted->python-binance) (17.5.0)\n",
      "Requirement already satisfied: txaio>=18.8.1 in ./anaconda3/lib/python3.7/site-packages (from autobahn->python-binance) (18.8.1)\n",
      "Requirement already satisfied: idna<2.9,>=2.5 in ./anaconda3/lib/python3.7/site-packages (from requests->python-binance) (2.8)\n",
      "Requirement already satisfied: pycparser in ./anaconda3/lib/python3.7/site-packages (from cffi!=1.11.3,>=1.8->cryptography->python-binance) (2.19)\n",
      "Requirement already satisfied: setuptools in ./anaconda3/lib/python3.7/site-packages (from zope.interface>=4.4.2->Twisted->python-binance) (41.6.0.post20191030)\n",
      "Downloading 0 minutes of new data available for BTCUSDT, i.e. 0 instances of 1d data.\n",
      "All caught up..!\n"
     ]
    }
   ],
   "source": [
    "!pip install python-binance\n",
    "# This code has been uploaded into BlockchainAssets Github\n",
    "# data variable contains the data from the dowloading, DataFrame (pandas)\n",
    "import pandas as pd\n",
    "import math\n",
    "import os.path\n",
    "import time\n",
    "from binance.client import Client\n",
    "from datetime import timedelta, datetime\n",
    "from dateutil import parser\n",
    "from tqdm import tqdm_notebook\n",
    "import matplotlib.pyplot as plt\n",
    "\n",
    "api_key = '#####'\n",
    "api_secret = '#####'\n",
    "\n",
    "binsizes = {\"1m\": 1, \"5m\": 5, \"1h\": 60, \"1d\": 1440}\n",
    "batch_size = 750\n",
    "binance_client = Client(api_key=api_key, api_secret=api_secret)\n",
    "\n",
    "def minutes_of_new_data(symbol, kline_size, data, source):\n",
    "    if len(data) > 0:  old = parser.parse(data[\"timestamp\"].iloc[-1])\n",
    "    elif source == \"binance\": old = datetime.strptime('1 Jan 2017', '%d %b %Y')\n",
    "    elif source == \"bitmex\": old = bitmex_client.Trade.Trade_getBucketed(symbol=symbol, binSize=kline_size, count=1, reverse=False).result()[0][0]['timestamp']\n",
    "    if source == \"binance\": new = pd.to_datetime(binance_client.get_klines(symbol=symbol, interval=kline_size)[-1][0], unit='ms')\n",
    "    if source == \"bitmex\": new = bitmex_client.Trade.Trade_getBucketed(symbol=symbol, binSize=kline_size, count=1, reverse=True).result()[0][0]['timestamp']\n",
    "    return old, new\n",
    "\n",
    "def get_all_binance(symbol, kline_size, save = False):\n",
    "    filename = '%s-%s-data.csv' % (symbol, kline_size)\n",
    "    if os.path.isfile(filename): data_df = pd.read_csv(filename)\n",
    "    else: data_df = pd.DataFrame()\n",
    "    oldest_point, newest_point = minutes_of_new_data(symbol, kline_size, data_df, source = \"binance\")\n",
    "    delta_min = (newest_point - oldest_point).total_seconds()/60\n",
    "    available_data = math.ceil(delta_min/binsizes[kline_size])\n",
    "    if oldest_point == datetime.strptime('1 Jan 2017', '%d %b %Y'): print('Downloading all available %s data for %s. Be patient..!' % (kline_size, symbol))\n",
    "    else: print('Downloading %d minutes of new data available for %s, i.e. %d instances of %s data.' % (delta_min, symbol, available_data, kline_size))\n",
    "    klines = binance_client.get_historical_klines(symbol, kline_size, oldest_point.strftime(\"%d %b %Y %H:%M:%S\"), newest_point.strftime(\"%d %b %Y %H:%M:%S\"))\n",
    "    data = pd.DataFrame(klines, columns = ['timestamp', 'open', 'high', 'low', 'close', 'volume', 'close_time', 'quote_av', 'trades', 'tb_base_av', 'tb_quote_av', 'ignore' ])\n",
    "    data['timestamp'] = pd.to_datetime(data['timestamp'], unit='ms')\n",
    "    if len(data_df) > 0:\n",
    "        temp_df = pd.DataFrame(data)\n",
    "        data_df = data_df.append(temp_df)\n",
    "    else: data_df = data\n",
    "    data_df.set_index('timestamp', inplace=True)\n",
    "    if save: data_df.to_csv(filename)\n",
    "    print('All caught up..!')\n",
    "    return data_df\n",
    "\n",
    "# Values available = \"1m\", \"5m\", \"1h\", \"1d\"\n",
    "binance_symbols = [\"BTCUSDT\"]\n",
    "for symbol in binance_symbols:\n",
    "    data = get_all_binance(symbol, '1d', save = False)\n",
    "\n",
    "for name in data.columns:\n",
    "  if name!='open':\n",
    "    data.drop(name, axis=1, inplace=True)\n",
    "\n",
    "data = data.astype(dtype='float32')"
   ]
  },
  {
   "cell_type": "code",
   "execution_count": 91,
   "metadata": {},
   "outputs": [
    {
     "name": "stdout",
     "output_type": "stream",
     "text": [
      "Downloading 0 minutes of new data available for BTCUSDT, i.e. 0 instances of 1d data.\n",
      "All caught up..!\n"
     ]
    },
    {
     "data": {
      "text/html": [
       "<div>\n",
       "<style scoped>\n",
       "    .dataframe tbody tr th:only-of-type {\n",
       "        vertical-align: middle;\n",
       "    }\n",
       "\n",
       "    .dataframe tbody tr th {\n",
       "        vertical-align: top;\n",
       "    }\n",
       "\n",
       "    .dataframe thead th {\n",
       "        text-align: right;\n",
       "    }\n",
       "</style>\n",
       "<table border=\"1\" class=\"dataframe\">\n",
       "  <thead>\n",
       "    <tr style=\"text-align: right;\">\n",
       "      <th></th>\n",
       "      <th>open</th>\n",
       "      <th>high</th>\n",
       "      <th>low</th>\n",
       "      <th>close</th>\n",
       "      <th>volume</th>\n",
       "      <th>close_time</th>\n",
       "      <th>quote_av</th>\n",
       "      <th>trades</th>\n",
       "      <th>tb_base_av</th>\n",
       "      <th>tb_quote_av</th>\n",
       "      <th>ignore</th>\n",
       "    </tr>\n",
       "    <tr>\n",
       "      <th>timestamp</th>\n",
       "      <th></th>\n",
       "      <th></th>\n",
       "      <th></th>\n",
       "      <th></th>\n",
       "      <th></th>\n",
       "      <th></th>\n",
       "      <th></th>\n",
       "      <th></th>\n",
       "      <th></th>\n",
       "      <th></th>\n",
       "      <th></th>\n",
       "    </tr>\n",
       "  </thead>\n",
       "  <tbody>\n",
       "    <tr>\n",
       "      <th>2017-08-17</th>\n",
       "      <td>4261.479980</td>\n",
       "      <td>4485.390137</td>\n",
       "      <td>4200.740234</td>\n",
       "      <td>4285.080078</td>\n",
       "      <td>795.150391</td>\n",
       "      <td>1.503014e+12</td>\n",
       "      <td>3.454770e+06</td>\n",
       "      <td>3427.0</td>\n",
       "      <td>616.248535</td>\n",
       "      <td>2.678216e+06</td>\n",
       "      <td>8733.911133</td>\n",
       "    </tr>\n",
       "    <tr>\n",
       "      <th>2017-08-18</th>\n",
       "      <td>4285.080078</td>\n",
       "      <td>4371.520020</td>\n",
       "      <td>3938.770020</td>\n",
       "      <td>4108.370117</td>\n",
       "      <td>1199.888306</td>\n",
       "      <td>1.503101e+12</td>\n",
       "      <td>5.086958e+06</td>\n",
       "      <td>5233.0</td>\n",
       "      <td>972.868713</td>\n",
       "      <td>4.129123e+06</td>\n",
       "      <td>9384.141602</td>\n",
       "    </tr>\n",
       "    <tr>\n",
       "      <th>2017-08-19</th>\n",
       "      <td>4108.370117</td>\n",
       "      <td>4184.689941</td>\n",
       "      <td>3850.000000</td>\n",
       "      <td>4139.979980</td>\n",
       "      <td>381.309753</td>\n",
       "      <td>1.503187e+12</td>\n",
       "      <td>1.549484e+06</td>\n",
       "      <td>2153.0</td>\n",
       "      <td>274.336029</td>\n",
       "      <td>1.118002e+06</td>\n",
       "      <td>9184.085938</td>\n",
       "    </tr>\n",
       "    <tr>\n",
       "      <th>2017-08-20</th>\n",
       "      <td>4120.979980</td>\n",
       "      <td>4211.080078</td>\n",
       "      <td>4032.620117</td>\n",
       "      <td>4086.290039</td>\n",
       "      <td>467.083008</td>\n",
       "      <td>1.503274e+12</td>\n",
       "      <td>1.930364e+06</td>\n",
       "      <td>2321.0</td>\n",
       "      <td>376.795959</td>\n",
       "      <td>1.557401e+06</td>\n",
       "      <td>10125.414062</td>\n",
       "    </tr>\n",
       "    <tr>\n",
       "      <th>2017-08-21</th>\n",
       "      <td>4069.129883</td>\n",
       "      <td>4119.620117</td>\n",
       "      <td>3911.790039</td>\n",
       "      <td>4016.000000</td>\n",
       "      <td>691.743042</td>\n",
       "      <td>1.503360e+12</td>\n",
       "      <td>2.797232e+06</td>\n",
       "      <td>3972.0</td>\n",
       "      <td>557.356079</td>\n",
       "      <td>2.255662e+06</td>\n",
       "      <td>11706.769531</td>\n",
       "    </tr>\n",
       "    <tr>\n",
       "      <th>...</th>\n",
       "      <td>...</td>\n",
       "      <td>...</td>\n",
       "      <td>...</td>\n",
       "      <td>...</td>\n",
       "      <td>...</td>\n",
       "      <td>...</td>\n",
       "      <td>...</td>\n",
       "      <td>...</td>\n",
       "      <td>...</td>\n",
       "      <td>...</td>\n",
       "      <td>...</td>\n",
       "    </tr>\n",
       "    <tr>\n",
       "      <th>2019-12-16 00:00:00</th>\n",
       "      <td>7119.600098</td>\n",
       "      <td>7132.520020</td>\n",
       "      <td>7042.490234</td>\n",
       "      <td>7091.209961</td>\n",
       "      <td>14926.035156</td>\n",
       "      <td>1.576541e+12</td>\n",
       "      <td>1.056792e+08</td>\n",
       "      <td>134262.0</td>\n",
       "      <td>7566.988770</td>\n",
       "      <td>5.358085e+07</td>\n",
       "      <td>0.000000</td>\n",
       "    </tr>\n",
       "    <tr>\n",
       "      <th>2019-12-16 00:00:00</th>\n",
       "      <td>7119.600098</td>\n",
       "      <td>7132.520020</td>\n",
       "      <td>7042.490234</td>\n",
       "      <td>7091.209961</td>\n",
       "      <td>14926.035156</td>\n",
       "      <td>1.576541e+12</td>\n",
       "      <td>1.056792e+08</td>\n",
       "      <td>134262.0</td>\n",
       "      <td>7566.988770</td>\n",
       "      <td>5.358085e+07</td>\n",
       "      <td>0.000000</td>\n",
       "    </tr>\n",
       "    <tr>\n",
       "      <th>2019-12-16 00:00:00</th>\n",
       "      <td>7119.600098</td>\n",
       "      <td>7132.520020</td>\n",
       "      <td>7042.490234</td>\n",
       "      <td>7090.770020</td>\n",
       "      <td>14934.376953</td>\n",
       "      <td>1.576541e+12</td>\n",
       "      <td>1.057383e+08</td>\n",
       "      <td>134369.0</td>\n",
       "      <td>7571.591309</td>\n",
       "      <td>5.361349e+07</td>\n",
       "      <td>0.000000</td>\n",
       "    </tr>\n",
       "    <tr>\n",
       "      <th>2019-12-16 00:00:00</th>\n",
       "      <td>7119.600098</td>\n",
       "      <td>7132.520020</td>\n",
       "      <td>7042.490234</td>\n",
       "      <td>7089.970215</td>\n",
       "      <td>14945.798828</td>\n",
       "      <td>1.576541e+12</td>\n",
       "      <td>1.058193e+08</td>\n",
       "      <td>134478.0</td>\n",
       "      <td>7576.015137</td>\n",
       "      <td>5.364485e+07</td>\n",
       "      <td>0.000000</td>\n",
       "    </tr>\n",
       "    <tr>\n",
       "      <th>2019-12-16 00:00:00</th>\n",
       "      <td>7119.600098</td>\n",
       "      <td>7132.520020</td>\n",
       "      <td>7042.490234</td>\n",
       "      <td>7113.470215</td>\n",
       "      <td>15642.474609</td>\n",
       "      <td>1.576541e+12</td>\n",
       "      <td>1.107704e+08</td>\n",
       "      <td>139882.0</td>\n",
       "      <td>7995.372070</td>\n",
       "      <td>5.662492e+07</td>\n",
       "      <td>0.000000</td>\n",
       "    </tr>\n",
       "  </tbody>\n",
       "</table>\n",
       "<p>865 rows × 11 columns</p>\n",
       "</div>"
      ],
      "text/plain": [
       "                            open         high          low        close  \\\n",
       "timestamp                                                                 \n",
       "2017-08-17           4261.479980  4485.390137  4200.740234  4285.080078   \n",
       "2017-08-18           4285.080078  4371.520020  3938.770020  4108.370117   \n",
       "2017-08-19           4108.370117  4184.689941  3850.000000  4139.979980   \n",
       "2017-08-20           4120.979980  4211.080078  4032.620117  4086.290039   \n",
       "2017-08-21           4069.129883  4119.620117  3911.790039  4016.000000   \n",
       "...                          ...          ...          ...          ...   \n",
       "2019-12-16 00:00:00  7119.600098  7132.520020  7042.490234  7091.209961   \n",
       "2019-12-16 00:00:00  7119.600098  7132.520020  7042.490234  7091.209961   \n",
       "2019-12-16 00:00:00  7119.600098  7132.520020  7042.490234  7090.770020   \n",
       "2019-12-16 00:00:00  7119.600098  7132.520020  7042.490234  7089.970215   \n",
       "2019-12-16 00:00:00  7119.600098  7132.520020  7042.490234  7113.470215   \n",
       "\n",
       "                           volume    close_time      quote_av    trades  \\\n",
       "timestamp                                                                 \n",
       "2017-08-17             795.150391  1.503014e+12  3.454770e+06    3427.0   \n",
       "2017-08-18            1199.888306  1.503101e+12  5.086958e+06    5233.0   \n",
       "2017-08-19             381.309753  1.503187e+12  1.549484e+06    2153.0   \n",
       "2017-08-20             467.083008  1.503274e+12  1.930364e+06    2321.0   \n",
       "2017-08-21             691.743042  1.503360e+12  2.797232e+06    3972.0   \n",
       "...                           ...           ...           ...       ...   \n",
       "2019-12-16 00:00:00  14926.035156  1.576541e+12  1.056792e+08  134262.0   \n",
       "2019-12-16 00:00:00  14926.035156  1.576541e+12  1.056792e+08  134262.0   \n",
       "2019-12-16 00:00:00  14934.376953  1.576541e+12  1.057383e+08  134369.0   \n",
       "2019-12-16 00:00:00  14945.798828  1.576541e+12  1.058193e+08  134478.0   \n",
       "2019-12-16 00:00:00  15642.474609  1.576541e+12  1.107704e+08  139882.0   \n",
       "\n",
       "                      tb_base_av   tb_quote_av        ignore  \n",
       "timestamp                                                     \n",
       "2017-08-17            616.248535  2.678216e+06   8733.911133  \n",
       "2017-08-18            972.868713  4.129123e+06   9384.141602  \n",
       "2017-08-19            274.336029  1.118002e+06   9184.085938  \n",
       "2017-08-20            376.795959  1.557401e+06  10125.414062  \n",
       "2017-08-21            557.356079  2.255662e+06  11706.769531  \n",
       "...                          ...           ...           ...  \n",
       "2019-12-16 00:00:00  7566.988770  5.358085e+07      0.000000  \n",
       "2019-12-16 00:00:00  7566.988770  5.358085e+07      0.000000  \n",
       "2019-12-16 00:00:00  7571.591309  5.361349e+07      0.000000  \n",
       "2019-12-16 00:00:00  7576.015137  5.364485e+07      0.000000  \n",
       "2019-12-16 00:00:00  7995.372070  5.662492e+07      0.000000  \n",
       "\n",
       "[865 rows x 11 columns]"
      ]
     },
     "execution_count": 91,
     "metadata": {},
     "output_type": "execute_result"
    }
   ],
   "source": [
    "# eth price\n",
    "binance_symbols_eth = [\"ETHUSD\"]\n",
    "for symbol in binance_symbols:\n",
    "    data_eth = get_all_binance(symbol, '1d', save = False)\n",
    "\n",
    "#for name in data_eth.columns:\n",
    "  #if name!='open':\n",
    "    #data_eth.drop(name, axis=1, inplace=True)\n",
    "\n",
    "data_eth = data_eth.astype(dtype='float32')\n",
    "\n",
    "data_eth"
   ]
  },
  {
   "cell_type": "code",
   "execution_count": 70,
   "metadata": {},
   "outputs": [
    {
     "name": "stdout",
     "output_type": "stream",
     "text": [
      "['BTCUSDT']\n"
     ]
    },
    {
     "data": {
      "image/png": "[encoded data removed]",
      "text/plain": [
       "<Figure size 432x288 with 1 Axes>"
      ]
     },
     "metadata": {
      "needs_background": "light"
     },
     "output_type": "display_data"
    }
   ],
   "source": [
    "import numpy as np \n",
    "from scipy.stats import skew\n",
    "from scipy import stats\n",
    "import statsmodels.formula.api as smf\n",
    "from scipy.stats import norm\n",
    "\n",
    "#data.head()\n",
    "#data.tail()\n",
    "#print(data)\n",
    "print(binance_symbols)\n",
    "#type(data)\n",
    "type(data)\n",
    "btc_usd = data\n",
    "#print(btc_usd)\n",
    "btc_usd.head(5)\n",
    "btc_usd['Returns'] = btc_usd['open'].pct_change()\n",
    "btc_usd.tail(10)\n",
    "btc_usd['Returns'].plot()\n",
    "plt.title('btc returns %', color=\"white\")\n",
    "plt.show()\n",
    "#cant deploy this code\n",
    "#btc_usd['Returns BTC'] = btc_usd['Adj Close'].pct_change()\n",
    "#StocksReturns_Percent['btc_percent_return'] = btc_usd['Returns BTC']*100\n",
    "#cumulative_btc = StocksReturns_Percent['btc_percent_return'].cumsum()"
   ]
  },
  {
   "cell_type": "code",
   "execution_count": 66,
   "metadata": {},
   "outputs": [
    {
     "data": {
      "image/png": "[encoded data removed]",
      "text/plain": [
       "<Figure size 432x288 with 1 Axes>"
      ]
     },
     "metadata": {
      "needs_background": "light"
     },
     "output_type": "display_data"
    }
   ],
   "source": [
    "returns_percent = btc_usd['Returns']*100\n",
    "returns_percent\n",
    "return_plot = returns_percent.dropna()\n",
    "plt.hist(return_plot, bins=80, color=\"orange\")\n",
    "plt.title('btc returns histogram', color=\"orange\")\n",
    "plt.show()"
   ]
  },
  {
   "cell_type": "code",
   "execution_count": 72,
   "metadata": {},
   "outputs": [
    {
     "data": {
      "image/png": "[encoded data removed]",
      "text/plain": [
       "<Figure size 432x288 with 1 Axes>"
      ]
     },
     "metadata": {
      "needs_background": "light"
     },
     "output_type": "display_data"
    }
   ],
   "source": [
    "cummulative_btc = btc_usd['Returns'].cumsum()\n",
    "cummulative_btc.plot()\n",
    "plt.title('btc cummulative % returns', color='white')\n",
    "plt.show()\n"
   ]
  },
  {
   "cell_type": "code",
   "execution_count": 103,
   "metadata": {},
   "outputs": [],
   "source": [
    "def update_base_quote(base, quote = 'USDT'):\n",
    "    for token in base:\n",
    "        get_all_binance(quote, '1d', save = False)\n"
   ]
  },
  {
   "cell_type": "code",
   "execution_count": 95,
   "metadata": {},
   "outputs": [],
   "source": [
    "def open_prices(base, quote):\n",
    "    complete_data = {}\n",
    "    for ticker in base:\n",
    "        complete_data[ticker+quote] = pd.read_csv(ticker+quote+'-1d-data.csv')[['timestamp', 'open']]\n",
    "        complete_data[ticker+quote].rename(columns = {'open':ticker+quote}, inplace=True)\n",
    "    \n",
    "    open_price_data = complete_data[base[0] + quote][['timestamp']]\n",
    "    for ticker in base:\n",
    "        open_price_data = pd.merge(open_price_data, complete_data[ticker+quote], how='inner', on='timestamp')    \n",
    "    \n",
    "    return open_price_data[~open_price_data.timestamp.duplicated(keep='first')]\n"
   ]
  },
  {
   "cell_type": "code",
   "execution_count": 115,
   "metadata": {},
   "outputs": [],
   "source": [
    "def portfolio_value(base, quote, holdings):\n",
    "    prices = open_prices(base, quote)\n",
    "    portfolio_value = prices[base[0]+quote]*holdings[0]\n",
    "    for i in range(1,len(base)):\n",
    "        portfolio_value = portfolio_value + prices[base[i]+quote]*holdings[i]\n",
    "    return pd.DataFrame(data={'Value':portfolio_value.values}, index=prices['timestamp'].values)"
   ]
  },
  {
   "cell_type": "code",
   "execution_count": 116,
   "metadata": {},
   "outputs": [
    {
     "data": {
      "text/plain": [
       "['ATOM']"
      ]
     },
     "execution_count": 116,
     "metadata": {},
     "output_type": "execute_result"
    }
   ],
   "source": [
    "base = ['ATOM']\n",
    "quote = 'USDT'\n",
    "base"
   ]
  },
  {
   "cell_type": "code",
   "execution_count": 117,
   "metadata": {},
   "outputs": [],
   "source": [
    "#update_base_quote(base, quote)\n",
    "#error !!!!"
   ]
  },
  {
   "cell_type": "code",
   "execution_count": 188,
   "metadata": {},
   "outputs": [
    {
     "data": {
      "text/plain": [
       "open            NaN\n",
       "Returns   -0.078469\n",
       "dtype: float32"
      ]
     },
     "execution_count": 188,
     "metadata": {},
     "output_type": "execute_result"
    }
   ],
   "source": [
    "var_95 = np.nanpercentile(btc_usd,5)\n",
    "var_95\n",
    "cvar_95 = btc_usd[btc_usd <= var_95].mean()\n",
    "cvar_95"
   ]
  },
  {
   "cell_type": "code",
   "execution_count": 302,
   "metadata": {},
   "outputs": [
    {
     "data": {
      "text/plain": [
       "timestamp\n",
       "2017-08-17             4261.479980\n",
       "2017-08-18             4285.080078\n",
       "2017-08-19             4108.370117\n",
       "2017-08-20             4120.979980\n",
       "2017-08-21             4069.129883\n",
       "                          ...     \n",
       "2019-12-16 00:00:00    7119.600098\n",
       "2019-12-16 00:00:00    7119.600098\n",
       "2019-12-16 00:00:00    7119.600098\n",
       "2019-12-16 00:00:00    7119.600098\n",
       "2019-12-16 00:00:00    7119.600098\n",
       "Name: open, Length: 861, dtype: float32"
      ]
     },
     "execution_count": 302,
     "metadata": {},
     "output_type": "execute_result"
    }
   ],
   "source": [
    "#columns = btc_usd.columns\n",
    "#btc_open = btc_usd.loc[:,['open']]\n",
    "btc_open\n",
    "returns_percent\n",
    "btc_open = btc_usd['open']\n",
    "btc_open"
   ]
  },
  {
   "cell_type": "code",
   "execution_count": 307,
   "metadata": {},
   "outputs": [
    {
     "name": "stdout",
     "output_type": "stream",
     "text": [
      "this is the average: 0.1531250774860382 %\n",
      "this is the standard deviation: 4.322876453399658 %\n"
     ]
    },
    {
     "data": {
      "text/plain": [
       "-0.25818630542474275"
      ]
     },
     "execution_count": 307,
     "metadata": {},
     "output_type": "execute_result"
    }
   ],
   "source": [
    "mu = np.mean(returns_percent)\n",
    "print(\"this is the average:\",mu,\"%\")\n",
    "std = np.std(returns_percent)\n",
    "print(\"this is the standard deviation:\",std,\"%\")\n",
    "confidence_level = 0.05\n",
    "Var = norm.ppf(confidence_level,mu, std)\n",
    "\n",
    "\n",
    "forecast_days =30\n",
    "forecast_var95_5day = var_95*np.sqrt(forecast_days)\n",
    "forecast_var95_5day"
   ]
  },
  {
   "cell_type": "code",
   "execution_count": 269,
   "metadata": {},
   "outputs": [
    {
     "data": {
      "text/html": [
       "<div>\n",
       "<style scoped>\n",
       "    .dataframe tbody tr th:only-of-type {\n",
       "        vertical-align: middle;\n",
       "    }\n",
       "\n",
       "    .dataframe tbody tr th {\n",
       "        vertical-align: top;\n",
       "    }\n",
       "\n",
       "    .dataframe thead th {\n",
       "        text-align: right;\n",
       "    }\n",
       "</style>\n",
       "<table border=\"1\" class=\"dataframe\">\n",
       "  <thead>\n",
       "    <tr style=\"text-align: right;\">\n",
       "      <th></th>\n",
       "      <th>open</th>\n",
       "    </tr>\n",
       "    <tr>\n",
       "      <th>timestamp</th>\n",
       "      <th></th>\n",
       "    </tr>\n",
       "  </thead>\n",
       "  <tbody>\n",
       "    <tr>\n",
       "      <th>2017-08-17</th>\n",
       "      <td>4261.479980</td>\n",
       "    </tr>\n",
       "    <tr>\n",
       "      <th>2017-08-18</th>\n",
       "      <td>4285.080078</td>\n",
       "    </tr>\n",
       "    <tr>\n",
       "      <th>2017-08-19</th>\n",
       "      <td>4108.370117</td>\n",
       "    </tr>\n",
       "    <tr>\n",
       "      <th>2017-08-20</th>\n",
       "      <td>4120.979980</td>\n",
       "    </tr>\n",
       "    <tr>\n",
       "      <th>2017-08-21</th>\n",
       "      <td>4069.129883</td>\n",
       "    </tr>\n",
       "  </tbody>\n",
       "</table>\n",
       "</div>"
      ],
      "text/plain": [
       "                   open\n",
       "timestamp              \n",
       "2017-08-17  4261.479980\n",
       "2017-08-18  4285.080078\n",
       "2017-08-19  4108.370117\n",
       "2017-08-20  4120.979980\n",
       "2017-08-21  4069.129883"
      ]
     },
     "execution_count": 269,
     "metadata": {},
     "output_type": "execute_result"
    }
   ],
   "source": [
    "btc_open.head(5)"
   ]
  },
  {
   "cell_type": "code",
   "execution_count": 320,
   "metadata": {
    "scrolled": true
   },
   "outputs": [
    {
     "data": {
      "image/png": "[encoded data removed]",
      "text/plain": [
       "<Figure size 432x288 with 1 Axes>"
      ]
     },
     "metadata": {
      "needs_background": "light"
     },
     "output_type": "display_data"
    }
   ],
   "source": [
    "#random walks\n",
    "mu\n",
    "std\n",
    "t = 10\n",
    "s0 = 4261 #starting stock price\n",
    "random_returns = np.random.normal(mu,std,t)+1\n",
    "forecasted_values = s0*random_returns.cumprod()\n",
    "plt.plot(range(0,t), forecasted_values)\n",
    "plt.title('Random Walk BTC', color='white')\n",
    "plt.show()"
   ]
  },
  {
   "cell_type": "code",
   "execution_count": 328,
   "metadata": {},
   "outputs": [
    {
     "data": {
      "image/png": "[encoded data removed]",
      "text/plain": [
       "<Figure size 432x288 with 1 Axes>"
      ]
     },
     "metadata": {
      "needs_background": "light"
     },
     "output_type": "display_data"
    }
   ],
   "source": [
    "for i in range(100):\n",
    "    rand_rets = np.random.normal(mu, std,t)+1\n",
    "    forecasted_values = s0*(rand_rets).cumprod()\n",
    "    \n",
    "    plt.plot(range(t), forecasted_values)\n",
    "    plt.title('Montecarlo simulation BTC', color='white')\n",
    "    plt.xlabel('Time')\n",
    "    plt.ylabel('Price')\n",
    "plt.show()\n",
    "\n",
    "\n",
    "    "
   ]
  },
  {
   "cell_type": "code",
   "execution_count": 330,
   "metadata": {},
   "outputs": [
    {
     "name": "stdout",
     "output_type": "stream",
     "text": [
      "1.121595936301242\n",
      "4.121595936301242\n"
     ]
    }
   ],
   "source": [
    "\n",
    "# Import kurtosis from scipy.stats\n",
    "from scipy.stats import kurtosis\n",
    "\n",
    "# Calculate the excess kurtosis of the returns distribution\n",
    "excess_kurtosis = kurtosis(btc_open) \n",
    "print(excess_kurtosis)\n",
    "\n",
    "# Derive the true fourth moment of the returns distribution\n",
    "fourth_moment = excess_kurtosis + 3\n",
    "print(fourth_moment)"
   ]
  },
  {
   "cell_type": "code",
   "execution_count": 331,
   "metadata": {},
   "outputs": [
    {
     "name": "stdout",
     "output_type": "stream",
     "text": [
      "Shapiro results: (0.9413124322891235, 6.011607066442421e-18)\n",
      "P-value:  6.011607066442421e-18\n"
     ]
    }
   ],
   "source": [
    "\n",
    "# Import shapiro from scipy.stats\n",
    "from scipy.stats import shapiro\n",
    "\n",
    "# Run the Shapiro-Wilk test on the stock returns\n",
    "shapiro_results = shapiro(btc_open)\n",
    "print(\"Shapiro results:\", shapiro_results)\n",
    "\n",
    "# Extract the p-value from the shapiro_results\n",
    "p_value = shapiro_results[1]\n",
    "print(\"P-value: \", p_value)"
   ]
  },
  {
   "cell_type": "code",
   "execution_count": 336,
   "metadata": {},
   "outputs": [
    {
     "name": "stdout",
     "output_type": "stream",
     "text": [
      "btc vol is: 4.322876453399658\n",
      "btc variance is: 18.687260831357207\n",
      "btc annual vol is: 82.58843867906319\n"
     ]
    }
   ],
   "source": [
    "\n",
    "# Volatility \n",
    "btc_std = np.std(returns_percent)\n",
    "btc_var = np.std(returns_percent)**2\n",
    "btc_annual_volatility = np.std(returns_percent)*np.sqrt(365)\n",
    "print('btc vol is:',btc_std)\n",
    "print('btc variance is:',btc_var)\n",
    "print('btc annual vol is:',btc_annual_volatility)\n"
   ]
  }
 ],
 "metadata": {
  "kernelspec": {
   "display_name": "Python 3",
   "language": "python",
   "name": "python3"
  },
  "language_info": {
   "codemirror_mode": {
    "name": "ipython",
    "version": 3
   },
   "file_extension": ".py",
   "mimetype": "text/x-python",
   "name": "python",
   "nbconvert_exporter": "python",
   "pygments_lexer": "ipython3",
   "version": "3.7.3"
  }
 },
 "nbformat": 4,
 "nbformat_minor": 2
}
